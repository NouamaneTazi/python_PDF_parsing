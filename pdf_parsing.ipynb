{
 "cells": [
  {
   "cell_type": "markdown",
   "metadata": {},
   "source": [
    "## List files in directory"
   ]
  },
  {
   "cell_type": "code",
   "execution_count": 2,
   "metadata": {},
   "outputs": [
    {
     "name": "stdout",
     "output_type": "stream",
     "text": "['.\\\\docs\\\\Lorem_ipsum.pdf']\n"
    }
   ],
   "source": [
    "import os\n",
    "\n",
    "path = '.\\\\docs'\n",
    "files = []\n",
    "# r=root, d=directories, f = files\n",
    "for r, d, f in os.walk(path):\n",
    "    for file in f:\n",
    "        if '.pdf' in file:\n",
    "            files.append(os.path.join(r, file))\n",
    "print(files)"
   ]
  },
  {
   "cell_type": "markdown",
   "metadata": {},
   "source": [
    "## Importing modules"
   ]
  },
  {
   "cell_type": "markdown",
   "metadata": {},
   "source": [
    "PDFBOx prerequisites :\n",
    "* install latest version of jdk and java\n",
    "\n",
    "Pytesseract prerequisites :\n",
    "* install latest version of jdk\n",
    "* install [Tesseract OCR](https://github.com/tesseract-ocr/tesseract)"
   ]
  },
  {
   "cell_type": "code",
   "execution_count": 3,
   "metadata": {},
   "outputs": [],
   "source": [
    "from tika import parser\n",
    "import pdfbox\n",
    "p = pdfbox.PDFBox()\n",
    "from pdf2image import convert_from_path \n",
    "from PIL import Image\n",
    "import pytesseract"
   ]
  },
  {
   "cell_type": "code",
   "execution_count": 11,
   "metadata": {},
   "outputs": [
    {
     "data": {
      "text/plain": "'.\\\\docs\\\\Lorem_ipsum.pdf'"
     },
     "execution_count": 11,
     "metadata": {},
     "output_type": "execute_result"
    }
   ],
   "source": [
    "file = files[0]\n",
    "file"
   ]
  },
  {
   "cell_type": "markdown",
   "metadata": {},
   "source": [
    "## TIKA"
   ]
  },
  {
   "cell_type": "code",
   "execution_count": 6,
   "metadata": {},
   "outputs": [
    {
     "data": {
      "text/plain": "\"\\n\\n\\n\\n\\n\\n\\n\\n\\n\\n\\n\\n\\n\\n\\n\\n\\n\\n\\n\\n\\n\\n\\n\\n\\n\\n\\n\\n\\n\\n\\n\\n\\n\\n\\n\\n\\n\\n\\n\\n\\n\\n\\n\\nTest PDF \\n\\nLorem Ipsum is simply dummy text of the printing and typesetting industry. Lorem Ipsum has been the \\n\\nindustry's standard dummy text ever since the 1500s, when an unknown printer took a galley of type \\n\\nand scrambled it to make a type specimen book. It has survived not only five centuries, but also the leap \\n\\ninto electronic typesetting, remaining essentially unchanged. It was popularised in the 1960s with the \\n\\nrelease of Letraset sheets containing Lorem Ipsum passages, and more recently with desktop publishing \\n\\nsoftware like Aldus PageMaker including versions of Lorem Ipsum. \\n\\nLorem Ipsum is simply dummy text of the printing and typesetting industry. Lorem Ipsum has been the \\n\\nindustry's standard dummy text ever since the 1500s, when an unknown printer took a galley of type \\n\\nand scrambled it to make a type specimen book. It has survived not only five centuries, but also the leap \\n\\ninto electronic typesetting, remaining essentially unchanged. It was popularised in the 1960s with the \\n\\nrelease of Letraset sheets containing Lorem Ipsum passages, and more recently with desktop publishing \\n\\nsoftware like Aldus PageMaker including versions of Lorem Ipsum. \\n\\nLorem Ipsum is simply dummy text of the printing and typesetting industry. Lorem Ipsum has been the \\n\\nindustry's standard dummy text ever since the 1500s, when an unknown printer took a galley of type \\n\\nand scrambled it to make a type specimen book. It has survived not only five centuries, but also the leap \\n\\ninto electronic typesetting, remaining essentially unchanged. It was popularised in the 1960s with the \\n\\nrelease of Letraset sheets containing Lorem Ipsum passages, and more recently with desktop publishing \\n\\nsoftware like Aldus PageMaker including versions of Lorem Ipsum. \\n\\nLorem Ipsum is simply dummy text of the printing and typesetting industry. Lorem Ipsum has been the \\n\\nindustry's standard dummy text ever since the 1500s, when an unknown printer took a galley of type \\n\\nand scrambled it to make a type specimen book. It has survived not only five centuries, but also the leap \\n\\ninto electronic typesetting, remaining essentially unchanged. It was popularised in the 1960s with the \\n\\nrelease of Letraset sheets containing Lorem Ipsum passages, and more recently with desktop publishing \\n\\nsoftware like Aldus PageMaker including versions of Lorem Ipsum. \\n\\n\\n\""
     },
     "execution_count": 6,
     "metadata": {},
     "output_type": "execute_result"
    }
   ],
   "source": [
    "raw = parser.from_file(file)\n",
    "raw['content']"
   ]
  },
  {
   "cell_type": "markdown",
   "metadata": {},
   "source": [
    "## PDFBox"
   ]
  },
  {
   "cell_type": "code",
   "execution_count": 21,
   "metadata": {},
   "outputs": [
    {
     "name": "stdout",
     "output_type": "stream",
     "text": "Test PDF \nLorem Ipsum is simply dummy text of the printing and typesetting industry. Lorem Ipsum has been the \nindustry's standard dummy text ever since the 1500s, when an unknown printer took a galley of type \nand scrambled it to make a type specimen book. It has survived not only five centuries, but also the leap \ninto electronic typesetting, remaining essentially unchanged. It was popularised in the 1960s with the \nrelease of Letraset sheets containing Lorem Ipsum passages, and more recently with desktop publishing \nsoftware like Aldus PageMaker including versions of Lorem Ipsum. \nLorem Ipsum is simply dummy text of the printing and typesetting industry. Lorem Ipsum has been the \nindustry's standard dummy text ever since the 1500s, when an unknown printer took a galley of type \nand scrambled it to make a type specimen book. It has survived not only five centuries, but also the leap \ninto electronic typesetting, remaining essentially unchanged. It was popularised in the 1960s with the \nrelease of Letraset sheets containing Lorem Ipsum passages, and more recently with desktop publishing \nsoftware like Aldus PageMaker including versions of Lorem Ipsum. \nLorem Ipsum is simply dummy text of the printing and typesetting industry. Lorem Ipsum has been the \nindustry's standard dummy text ever since the 1500s, when an unknown printer took a galley of type \nand scrambled it to make a type specimen book. It has survived not only five centuries, but also the leap \ninto electronic typesetting, remaining essentially unchanged. It was popularised in the 1960s with the \nrelease of Letraset sheets containing Lorem Ipsum passages, and more recently with desktop publishing \nsoftware like Aldus PageMaker including versions of Lorem Ipsum. \nLorem Ipsum is simply dummy text of the printing and typesetting industry. Lorem Ipsum has been the \nindustry's standard dummy text ever since the 1500s, when an unknown printer took a galley of type \nand scrambled it to make a type specimen book. It has survived not only five centuries, but also the leap \ninto electronic typesetting, remaining essentially unchanged. It was popularised in the 1960s with the \nrelease of Letraset sheets containing Lorem Ipsum passages, and more recently with desktop publishing \nsoftware like Aldus PageMaker including versions of Lorem Ipsum. \n\n"
    }
   ],
   "source": [
    "p.extract_text(file, output_path='extracted_text.txt') # Saves result to txt file in same directory\n",
    "txt_file = 'extracted_text.txt'\n",
    "with open(txt_file,'r') as f:\n",
    "    print(f.read())\n",
    "os.remove(txt_file)\n"
   ]
  },
  {
   "cell_type": "code",
   "execution_count": 8,
   "metadata": {},
   "outputs": [],
   "source": [
    "#p.extract_images(file)"
   ]
  },
  {
   "cell_type": "markdown",
   "metadata": {},
   "source": [
    "## OCR"
   ]
  },
  {
   "cell_type": "markdown",
   "metadata": {},
   "source": [
    "### pdf > text"
   ]
  },
  {
   "cell_type": "code",
   "execution_count": 12,
   "metadata": {},
   "outputs": [
    {
     "name": "stdout",
     "output_type": "stream",
     "text": "Test PDF\n\nLorem Ipsum is simply dummy text of the printing and typesetting industry. Lorem Ipsum has been the\nindustry's standard dummy text ever since the 1500s, when an unknown printer took a galley of type\nand scrambled it to make a type specimen book. It has survived not only five centuries, but also the leap\ninto electronic typesetting, remaining essentially unchanged. It was popularised in the 1960s with the\nrelease of Letraset sheets containing Lorem Ipsum passages, and more recently with desktop publishing\nsoftware like Aldus PageMaker including versions of Lorem Ipsum.\n\nLorem Ipsum is simply dummy text of the printing and typesetting industry. Lorem Ipsum has been the\nindustry's standard dummy text ever since the 1500s, when an unknown printer took a galley of type\nand scrambled it to make a type specimen book. It has survived not only five centuries, but also the leap\ninto electronic typesetting, remaining essentially unchanged. It was popularised in the 1960s with the\nrelease of Letraset sheets containing Lorem Ipsum passages, and more recently with desktop publishing\nsoftware like Aldus PageMaker including versions of Lorem Ipsum.\n\nLorem Ipsum is simply dummy text of the printing and typesetting industry. Lorem Ipsum has been the\nindustry's standard dummy text ever since the 1500s, when an unknown printer took a galley of type\nand scrambled it to make a type specimen book. It has survived not only five centuries, but also the leap\ninto electronic typesetting, remaining essentially unchanged. It was popularised in the 1960s with the\nrelease of Letraset sheets containing Lorem Ipsum passages, and more recently with desktop publishing\nsoftware like Aldus PageMaker including versions of Lorem Ipsum.\n\nLorem Ipsum is simply dummy text of the printing and typesetting industry. Lorem Ipsum has been the\nindustry's standard dummy text ever since the 1500s, when an unknown printer took a galley of type\nand scrambled it to make a type specimen book. It has survived not only five centuries, but also the leap\ninto electronic typesetting, remaining essentially unchanged. It was popularised in the 1960s with the\nrelease of Letraset sheets containing Lorem Ipsum passages, and more recently with desktop publishing\nsoftware like Aldus PageMaker including versions of Lorem Ipsum.\n"
    }
   ],
   "source": [
    "# https://www.geeksforgeeks.org/python-reading-contents-of-pdf-using-ocr-optical-character-recognition/\n",
    "\n",
    "pytesseract.pytesseract.tesseract_cmd = r'D:\\Programs\\Tesseract-OCR\\tesseract.exe' # fullpath to tesseract exe\n",
    "pages = convert_from_path(file, 500) \n",
    "image_counter = 1\n",
    "for page in pages: \n",
    "    filename = \"pdf2image_pages\\\\\"+file.split('\\\\')[-1]+\"_\"+str(image_counter)+\".jpg\"\n",
    "    image_counter = image_counter + 1\n",
    "    page.save(filename, 'JPEG') \n",
    "    text = str(((pytesseract.image_to_string(page, lang=\"eng+ita\")))) \n",
    "    print(text)"
   ]
  },
  {
   "cell_type": "markdown",
   "metadata": {},
   "source": [
    "### image > text"
   ]
  },
  {
   "cell_type": "code",
   "execution_count": 13,
   "metadata": {},
   "outputs": [
    {
     "name": "stdout",
     "output_type": "stream",
     "text": "@ ZONA PER MARCATURE (H 5mm, Prof. 0.2mm ) at\ne SIMBOLO DITTA L'ACCOPPIAMENTO TRA IL SG.1 E IL SG. 3 DEVE GARANTIRE LA\n\nDEL DADO CON COPPIA DI 20 Nm AL MOMENTO DEL MONTAGGIO. Il presente disegno è di proprietà della TRENITALIA S.p.A. ; non potrò, anche parzialmente\n\nessere utilizzato, comunicato a terzi ovvero riprodotto senza l’autorizzazione della suddetta Società\n\nFILE 374311\n"
    }
   ],
   "source": [
    "from PIL import Image\n",
    "import pytesseract\n",
    "pytesseract.pytesseract.tesseract_cmd = r'D:\\Programs\\Tesseract-OCR\\tesseract.exe' # fullpath to tesseract exe\n",
    "print(pytesseract.image_to_string(Image.open('test.png'), lang='eng+ita'))"
   ]
  },
  {
   "cell_type": "code",
   "execution_count": null,
   "metadata": {},
   "outputs": [],
   "source": []
  }
 ],
 "metadata": {
  "kernelspec": {
   "display_name": "Python 3",
   "language": "python",
   "name": "python3"
  },
  "language_info": {
   "codemirror_mode": {
    "name": "ipython",
    "version": 3
   },
   "file_extension": ".py",
   "mimetype": "text/x-python",
   "name": "python",
   "nbconvert_exporter": "python",
   "pygments_lexer": "ipython3",
   "version": "3.7.4-final"
  }
 },
 "nbformat": 4,
 "nbformat_minor": 4
}